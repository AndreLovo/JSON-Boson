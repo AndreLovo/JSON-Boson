{
 "cells": [
  {
   "cell_type": "markdown",
   "id": "028a8fd2",
   "metadata": {},
   "source": [
    "# <center>Boson - O que é JSON - JavaScript Object Notation</center>\n",
    "Youtube: https://www.youtube.com/watch?v=K1f7G0JMkLU <br> <br>\n",
    "site1: https://jsonformatter.org/ <br> <br>\n",
    "site2: https://jsoneditoronline.org <br> <br>\n",
    "site3: https://www.json.org/json-pt.html<br> <br>"
   ]
  },
  {
   "cell_type": "markdown",
   "id": "1526e2de",
   "metadata": {},
   "source": [
    "![JSON](Parse2.png)"
   ]
  },
  {
   "cell_type": "code",
   "execution_count": 1,
   "id": "42290b8c",
   "metadata": {},
   "outputs": [],
   "source": [
    "# Site verificação"
   ]
  },
  {
   "cell_type": "markdown",
   "id": "ca009064",
   "metadata": {},
   "source": [
    "![site verificacao](sites_verificacao.jpg)"
   ]
  }
 ],
 "metadata": {
  "kernelspec": {
   "display_name": "Python 3 (ipykernel)",
   "language": "python",
   "name": "python3"
  },
  "language_info": {
   "codemirror_mode": {
    "name": "ipython",
    "version": 3
   },
   "file_extension": ".py",
   "mimetype": "text/x-python",
   "name": "python",
   "nbconvert_exporter": "python",
   "pygments_lexer": "ipython3",
   "version": "3.8.10"
  }
 },
 "nbformat": 4,
 "nbformat_minor": 5
}
